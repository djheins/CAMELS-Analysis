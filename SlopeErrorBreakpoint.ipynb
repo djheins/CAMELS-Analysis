{
 "cells": [
  {
   "cell_type": "code",
   "execution_count": 5,
   "metadata": {},
   "outputs": [],
   "source": [
    "%run A_FunctionDefinitions.ipynb ;"
   ]
  },
  {
   "cell_type": "code",
   "execution_count": 2,
   "metadata": {},
   "outputs": [],
   "source": [
    "gauge=5393500 #8202700 \n",
    "scaled=1 #1: scales to mean flow\n",
    "         #0: leaves flows in ft^3/s\"\"\""
   ]
  },
  {
   "cell_type": "code",
   "execution_count": 3,
   "metadata": {},
   "outputs": [
    {
     "data": {
      "image/png": "[encoded data removed]",
      "text/plain": [
       "<Figure size 432x288 with 1 Axes>"
      ]
     },
     "metadata": {},
     "output_type": "display_data"
    }
   ],
   "source": [
    "upslope_value=90\n",
    "downslope_value=10\n",
    "\n",
    "data=loadflow(gauge)\n",
    "\n",
    "# FLOW DURATION CURVE\n",
    "#removing partial years/nulls \n",
    "numdays=329 #minimum number of days to be accepted\n",
    "data=data[data[4] != -999.0] #remove nulls\n",
    "yr1=min(data[1].values)\n",
    "yrEnd=max(data[1].values)\n",
    "for year in range(yr1,yrEnd+1):\n",
    "    if np.sum(data[1]==year)<numdays:\n",
    "        data=data[data[1] != year]\n",
    "\n",
    "flows=data[4].values\n",
    "\n",
    "#RUN DRY? \n",
    "if np.min(flows) == 0:\n",
    "    Dry=1\n",
    "    PctFlow=np.sum(flows!=0)/np.size(flows)\n",
    "    flows=data[data[4]!=0][4].values\n",
    "else:\n",
    "    Dry=0\n",
    "    PctFlow=100\n",
    "\n",
    "P=100*np.append(np.linspace(0,1,100,endpoint=False),[.995,.9975,.999,.9999])\n",
    "threshold=np.percentile(flows,P)\n",
    "if scaled==1: meanflow = np.mean(flows); modthresh=threshold/meanflow\n",
    "if scaled==0: modthresh=threshold\n",
    "\n",
    "fdc=pd.DataFrame({'Flow':threshold,'Scaled Flow':modthresh,'Percent Exceed':100-P})\n",
    "pct=fdc['Percent Exceed'].values\n",
    "flw=fdc['Scaled Flow'].values \n",
    "\n",
    "#ONE LINE PREDICTOR\n",
    "upslope=flw[pct==upslope_value]\n",
    "downslope=flw[pct==downslope_value]\n",
    "\n",
    "m=(np.log(upslope)-np.log(downslope))/(downslope_value-upslope_value)\n",
    "def slopeprediction(x):\n",
    "    return np.exp(np.log(upslope)-m*(x-upslope_value))\n",
    "\n",
    "pct_subset=pct[pct>downslope_value][pct[pct>downslope_value]<upslope_value]\n",
    "predictions_oneline=slopeprediction(pct_subset)\n",
    "flw_subset=flw[pct>downslope_value][pct[pct>downslope_value]<upslope_value]\n",
    "\n",
    "#BEST BREAKPOINT DETERMINATION\n",
    "breakpoint_tests=pct_subset \n",
    "N_tests=np.size(breakpoint_tests)\n",
    "\n",
    "def slopeprediction_2(x):\n",
    "    if x >= breakpoint:\n",
    "        return np.exp(np.log(upslope)-m_A*(x-upslope_value))\n",
    "    else:\n",
    "        return np.exp(np.log(breakpoint_flw)-m_B*(x-breakpoint))\n",
    "\n",
    "out=np.zeros(shape=(N_tests,5))\n",
    "for index in range(0,N_tests):\n",
    "    breakpoint=breakpoint_tests[index]\n",
    "    breakpoint_flw=flw[pct==breakpoint]\n",
    "    m_A=(np.log(upslope)-np.log(breakpoint_flw))/(breakpoint-upslope_value)\n",
    "    m_B=(np.log(breakpoint_flw)-np.log(downslope))/(downslope_value-breakpoint)\n",
    "\n",
    "    predictions_2=np.zeros(shape=np.shape(flw_subset))\n",
    "    for i in range (0,np.size(flw_subset)):\n",
    "        predictions_2[i]=slopeprediction_2(pct_subset[i])\n",
    "    log_diff_2=np.log(predictions_2)-np.log(flw_subset)\n",
    "    abs_log_diff_2=np.abs(log_diff_2)\n",
    "    error=np.mean(abs_log_diff_2)\n",
    "    error_b=np.mean(log_diff_2)\n",
    "\n",
    "    out[index,0]=breakpoint\n",
    "    out[index,1]=error\n",
    "    out[index,2]=m_A\n",
    "    out[index,3]=m_B\n",
    "    out[index,4]=error_b\n",
    "out=pd.DataFrame(out,columns=['pct','err','m_A','m_B','err_b'])\n",
    "true_2line=out[out.err==np.min(out.err)]\n",
    "\n",
    "true_breakpoint=true_2line.pct.values\n",
    "meanabsdiff_2line=true_2line.err.values\n",
    "m_A=true_2line.m_A.values\n",
    "m_B=true_2line.m_B.values\n",
    "breakpoint_flw=flw[pct==true_breakpoint]\n",
    "\n",
    "#PREDICTED VALUES 2 LINES\n",
    "def slopeprediction_2line(x):\n",
    "    if x >= true_breakpoint:\n",
    "        return np.exp(np.log(upslope)-m_A*(x-upslope_value))\n",
    "    else:\n",
    "        return np.exp(np.log(breakpoint_flw)-m_B*(x-true_breakpoint))\n",
    "L=np.size(pct_subset)\n",
    "predictions_2line=np.zeros(shape=(L,1))\n",
    "for i in range (0,L):\n",
    "    predictions_2line[i]=slopeprediction_2line(pct_subset[i])\n",
    "\n",
    "#PLOTTING\n",
    "if Dry == 1:   #rescaling the plot if the catchment runs dry\n",
    "    true_breakpoint=PctFlow*true_breakpoint\n",
    "    pct=PctFlow*pct\n",
    "    pct_subset=PctFlow*pct_subset\n",
    "    upslope_value=PctFlow*upslope_value\n",
    "    downslope_value=PctFlow*downslope_value\n",
    "\n",
    "fig=plt.figure()\n",
    "plt.semilogy(pct,flw,'b-')\n",
    "plt.semilogy(pct_subset,predictions_oneline,'--')\n",
    "plt.semilogy(pct_subset,predictions_2line,'c--')\n",
    "plt.semilogy(upslope_value,upslope,'r*',downslope_value,downslope,'r*',true_breakpoint,breakpoint_flw,'r*')\n",
    "if scaled==1: plt.ylabel('Daily Average Flow / Period of Record Mean')\n",
    "if scaled==0: plt.ylabel('Daily Average Flow (ft$^3$/s)')\n",
    "plt.xlabel('Percentage of Time Flow Exceeded')\n",
    "plt.title('FDC with Optimal Breakpoint, Gauge '+str(gauge))\n",
    "axes = plt.gca()\n",
    "axes.set_xlim([-3,103])\n",
    "plt.show()\n",
    "\n",
    "#ERROR VALUES\n",
    "log_diff_oneline=np.log(predictions_oneline)-np.log(flw_subset)\n",
    "meandiff_oneline=np.mean(log_diff_oneline)\n",
    "\n",
    "err_1=meandiff_oneline\n",
    "err_2=true_2line.err_b.values[0]\n",
    "ratio=err_1/err_2"
   ]
  },
  {
   "cell_type": "code",
   "execution_count": 4,
   "metadata": {},
   "outputs": [
    {
     "name": "stdout",
     "output_type": "stream",
     "text": [
      "Breakpoint: [31.]\n",
      "Percent Flow: 100\n",
      "Error 1 Line: 0.252962283789161\n",
      "Error 2 Line: 0.026877038994954385\n"
     ]
    }
   ],
   "source": [
    "print('Breakpoint: '+str(true_breakpoint))\n",
    "print('Percent Flow: '+str(PctFlow))\n",
    "print('Error 1 Line: '+str(err_1))\n",
    "print('Error 2 Line: '+str(err_2))"
   ]
  }
 ],
 "metadata": {
  "kernelspec": {
   "display_name": "Python 3",
   "language": "python",
   "name": "python3"
  },
  "language_info": {
   "codemirror_mode": {
    "name": "ipython",
    "version": 3
   },
   "file_extension": ".py",
   "mimetype": "text/x-python",
   "name": "python",
   "nbconvert_exporter": "python",
   "pygments_lexer": "ipython3",
   "version": "3.6.5"
  }
 },
 "nbformat": 4,
 "nbformat_minor": 2
}
