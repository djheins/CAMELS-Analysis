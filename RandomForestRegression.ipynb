{
 "cells": [
  {
   "cell_type": "code",
   "execution_count": 1,
   "metadata": {},
   "outputs": [],
   "source": [
    "%run A_FunctionDefinitions.ipynb ; #Contains all definitions \n",
    "\n",
    "fdc_info=returnattributeset('fdc_info') #loads basic info\n",
    "home='/Users/DJHeins/Documents/Coding/CAMELS/'\n",
    "\n",
    "from sklearn.ensemble import RandomForestRegressor\n",
    "from sklearn.datasets import make_regression\n",
    "from sklearn.preprocessing import StandardScaler\n",
    "from sklearn import metrics\n",
    "from sklearn.model_selection import RepeatedKFold"
   ]
  },
  {
   "cell_type": "code",
   "execution_count": 2,
   "metadata": {},
   "outputs": [
    {
     "data": {
      "text/html": [
       "<div>\n",
       "<style scoped>\n",
       "    .dataframe tbody tr th:only-of-type {\n",
       "        vertical-align: middle;\n",
       "    }\n",
       "\n",
       "    .dataframe tbody tr th {\n",
       "        vertical-align: top;\n",
       "    }\n",
       "\n",
       "    .dataframe thead th {\n",
       "        text-align: right;\n",
       "    }\n",
       "</style>\n",
       "<table border=\"1\" class=\"dataframe\">\n",
       "  <thead>\n",
       "    <tr style=\"text-align: right;\">\n",
       "      <th></th>\n",
       "      <th>gauge</th>\n",
       "      <th>PctFlow</th>\n",
       "      <th>m_90-10</th>\n",
       "      <th>err_1b</th>\n",
       "      <th>break</th>\n",
       "      <th>p_mean</th>\n",
       "      <th>pet_mean</th>\n",
       "      <th>p_seasonality</th>\n",
       "      <th>frac_snow</th>\n",
       "      <th>aridity</th>\n",
       "      <th>...</th>\n",
       "      <th>organic_frac</th>\n",
       "      <th>other_frac</th>\n",
       "      <th>frac_forest</th>\n",
       "      <th>lai_max</th>\n",
       "      <th>lai_diff</th>\n",
       "      <th>gvf_max</th>\n",
       "      <th>gvf_diff</th>\n",
       "      <th>carbonate_rocks_frac</th>\n",
       "      <th>geol_porostiy</th>\n",
       "      <th>geol_permeability</th>\n",
       "    </tr>\n",
       "  </thead>\n",
       "  <tbody>\n",
       "    <tr>\n",
       "      <th>0</th>\n",
       "      <td>1013500</td>\n",
       "      <td>100.0</td>\n",
       "      <td>3.102769</td>\n",
       "      <td>0.145291</td>\n",
       "      <td>36.0</td>\n",
       "      <td>3.126679</td>\n",
       "      <td>1.971555</td>\n",
       "      <td>0.18794</td>\n",
       "      <td>0.31344</td>\n",
       "      <td>0.630559</td>\n",
       "      <td>...</td>\n",
       "      <td>0.408717</td>\n",
       "      <td>0.0</td>\n",
       "      <td>0.9063</td>\n",
       "      <td>4.167304</td>\n",
       "      <td>3.340732</td>\n",
       "      <td>0.804567</td>\n",
       "      <td>0.371648</td>\n",
       "      <td>0.0</td>\n",
       "      <td>0.1714</td>\n",
       "      <td>-14.7019</td>\n",
       "    </tr>\n",
       "  </tbody>\n",
       "</table>\n",
       "<p>1 rows × 37 columns</p>\n",
       "</div>"
      ],
      "text/plain": [
       "     gauge  PctFlow   m_90-10    err_1b  break    p_mean  pet_mean  \\\n",
       "0  1013500    100.0  3.102769  0.145291   36.0  3.126679  1.971555   \n",
       "\n",
       "   p_seasonality  frac_snow   aridity        ...          organic_frac  \\\n",
       "0        0.18794    0.31344  0.630559        ...              0.408717   \n",
       "\n",
       "   other_frac  frac_forest   lai_max  lai_diff   gvf_max  gvf_diff  \\\n",
       "0         0.0       0.9063  4.167304  3.340732  0.804567  0.371648   \n",
       "\n",
       "   carbonate_rocks_frac  geol_porostiy  geol_permeability  \n",
       "0                   0.0         0.1714           -14.7019  \n",
       "\n",
       "[1 rows x 37 columns]"
      ]
     },
     "execution_count": 2,
     "metadata": {},
     "output_type": "execute_result"
    }
   ],
   "source": [
    "minflowthresh=98 #Minimum flow threshold\n",
    "acceptable=gaugefilter('fdc_info','PctFlow',[minflowthresh,101]) \n",
    "acceptablename='Flows' #Name for this subset\n",
    "\n",
    "#datasets for each category\n",
    "fdc=returnattributeset('fdc_info')[['gauge','PctFlow','m_90-10','err_1b','break']]\n",
    "clim=returnattributeset('clim')[fieldlisting('clim')]\n",
    "topo=returnattributeset('topo')[fieldlisting('topo')]\n",
    "soil=returnattributeset('soil')[fieldlisting('soil')]\n",
    "vege=returnattributeset('vege')[fieldlisting('vege')]\n",
    "geol=returnattributeset('geol')[fieldlisting('geol')]\n",
    "\n",
    "#making large dataframe of all\n",
    "combined=pd.concat([fdc,clim,topo,soil,vege,geol],axis=1)\n",
    "dfsubset=combined[combined.iloc[:,0].isin(acceptable)]\n",
    "dfsubset.head(n=1)"
   ]
  },
  {
   "cell_type": "code",
   "execution_count": 3,
   "metadata": {},
   "outputs": [
    {
     "data": {
      "text/plain": [
       "gauge                   559.0\n",
       "PctFlow                 559.0\n",
       "m_90-10                 559.0\n",
       "err_1b                  559.0\n",
       "break                   559.0\n",
       "p_mean                  559.0\n",
       "pet_mean                559.0\n",
       "p_seasonality           559.0\n",
       "frac_snow               559.0\n",
       "aridity                 559.0\n",
       "high_prec_freq          559.0\n",
       "high_prec_dur           559.0\n",
       "low_prec_freq           559.0\n",
       "low_prec_dur            559.0\n",
       "elev_mean               559.0\n",
       "slope_mean              559.0\n",
       "area_gages2             559.0\n",
       "area_geospa_fabric      559.0\n",
       "soil_depth_pelletier    559.0\n",
       "soil_depth_statsgo      559.0\n",
       "soil_porosity           559.0\n",
       "soil_conductivity       559.0\n",
       "max_water_content       559.0\n",
       "sand_frac               559.0\n",
       "silt_frac               559.0\n",
       "clay_frac               559.0\n",
       "water_frac              559.0\n",
       "organic_frac            559.0\n",
       "other_frac              559.0\n",
       "frac_forest             559.0\n",
       "lai_max                 559.0\n",
       "lai_diff                559.0\n",
       "gvf_max                 559.0\n",
       "gvf_diff                559.0\n",
       "carbonate_rocks_frac    559.0\n",
       "geol_porostiy           556.0\n",
       "geol_permeability       559.0\n",
       "Name: count, dtype: float64"
      ]
     },
     "execution_count": 3,
     "metadata": {},
     "output_type": "execute_result"
    }
   ],
   "source": [
    "#Identify any columns with incomplete data\n",
    "described=dfsubset.describe()\n",
    "described.iloc[0,:]"
   ]
  },
  {
   "cell_type": "code",
   "execution_count": 4,
   "metadata": {},
   "outputs": [],
   "source": [
    "clim=fieldlisting('clim')\n",
    "topo=fieldlisting('topo')\n",
    "soil=fieldlisting('soil')\n",
    "vege=fieldlisting('vege')\n",
    "geol=fieldlisting('geol')\n",
    "geo2=['carbonate_rocks_frac', 'geol_permeability'] #Removes porosity for having incomplete data\n",
    "\n",
    "SeasonSnowArid = ['p_seasonality','frac_snow','aridity']\n",
    "\n",
    "#Random forest target of regression\n",
    "target='err_1b'\n",
    "\n",
    "#Random forest/K-fold parameters\n",
    "n_estimators=200\n",
    "n_splits=5\n",
    "n_repeats=10\n",
    "\n",
    "#Create combination of desired column names, \n",
    "xvars=clim ; trialname='climate'\n",
    "#~~~~~~~~~~~~~~~~~~~~~~~~~~~~~~~~~~~~~~~~~~~~~~~~~~~~~~~~~~~~~~~~~~~~~~~~~~"
   ]
  },
  {
   "cell_type": "code",
   "execution_count": 5,
   "metadata": {},
   "outputs": [],
   "source": [
    "dfsubset=combined[combined.iloc[:,0].isin(acceptable)]\n",
    "\n",
    "X = dfsubset[xvars].values\n",
    "y = dfsubset[target].values\n",
    "\n",
    "rkf = RepeatedKFold(n_splits=n_splits, n_repeats=n_repeats, random_state=20)\n",
    "\n",
    "R2Values=[]\n",
    "FeatureImport=[]\n",
    "\n",
    "for train_index, test_index in rkf.split(X):\n",
    "    X_train, X_test = X[train_index], X[test_index]\n",
    "    y_train, y_test = y[train_index], y[test_index]\n",
    "    \n",
    "    sc = StandardScaler()  \n",
    "    X_train = sc.fit_transform(X_train)  \n",
    "    X_test = sc.transform(X_test)  \n",
    "\n",
    "    regressor = RandomForestRegressor(n_estimators=n_estimators, random_state=0)  \n",
    "    regressor.fit(X_train, y_train)  \n",
    "    y_pred = regressor.predict(X_test)  \n",
    "    r2score = metrics.r2_score(y_test, y_pred)\n",
    "    R2Values.append(r2score)\n",
    "    FeatureImport.append(regressor.feature_importances_)\n",
    "\n",
    "importances = pd.DataFrame(np.asarray(FeatureImport),columns=xvars)\n",
    "#importances.head(n=5)"
   ]
  },
  {
   "cell_type": "code",
   "execution_count": 6,
   "metadata": {},
   "outputs": [
    {
     "data": {
      "image/png": "[encoded data removed]",
      "text/plain": [
       "<Figure size 144x288 with 1 Axes>"
      ]
     },
     "metadata": {},
     "output_type": "display_data"
    },
    {
     "data": {
      "image/png": "[encoded data removed]",
      "text/plain": [
       "<Figure size 1008x288 with 1 Axes>"
      ]
     },
     "metadata": {},
     "output_type": "display_data"
    }
   ],
   "source": [
    "fig=plt.figure(figsize=(2,4))\n",
    "plt.boxplot(R2Values)\n",
    "plt.title(trialname+' R2 Range')\n",
    "plt.show()\n",
    "\n",
    "fig=plt.figure(figsize=(14,4))\n",
    "importances.boxplot(vert=False)\n",
    "plt.title('RF Regression with '+trialname)\n",
    "plt.xlabel('Attribute Importance to Random Forest Regression')\n",
    "plt.show()"
   ]
  },
  {
   "cell_type": "code",
   "execution_count": 7,
   "metadata": {},
   "outputs": [],
   "source": [
    "#To compare R2 values, I ran this repeatedly with my desired combinations and saved R2Values under a new name each time"
   ]
  }
 ],
 "metadata": {
  "kernelspec": {
   "display_name": "Python 3",
   "language": "python",
   "name": "python3"
  },
  "language_info": {
   "codemirror_mode": {
    "name": "ipython",
    "version": 3
   },
   "file_extension": ".py",
   "mimetype": "text/x-python",
   "name": "python",
   "nbconvert_exporter": "python",
   "pygments_lexer": "ipython3",
   "version": "3.6.5"
  }
 },
 "nbformat": 4,
 "nbformat_minor": 2
}
